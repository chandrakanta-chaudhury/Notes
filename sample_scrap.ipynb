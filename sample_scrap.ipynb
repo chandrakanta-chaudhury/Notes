{
  "nbformat": 4,
  "nbformat_minor": 0,
  "metadata": {
    "colab": {
      "name": "sample_scrap.ipynb",
      "provenance": [],
      "collapsed_sections": [],
      "authorship_tag": "ABX9TyOs7Z5vgE4Ff5GQwHh0M4rr",
      "include_colab_link": true
    },
    "kernelspec": {
      "name": "python3",
      "display_name": "Python 3"
    }
  },
  "cells": [
    {
      "cell_type": "markdown",
      "metadata": {
        "id": "view-in-github",
        "colab_type": "text"
      },
      "source": [
        "<a href=\"https://colab.research.google.com/github/chandrakanta-chaudhury/Notes/blob/master/sample_scrap.ipynb\" target=\"_parent\"><img src=\"https://colab.research.google.com/assets/colab-badge.svg\" alt=\"Open In Colab\"/></a>"
      ]
    },
    {
      "cell_type": "code",
      "metadata": {
        "id": "JTAkBG6c4hsc",
        "colab_type": "code",
        "colab": {}
      },
      "source": [
        "import os\n",
        "print(os.getcwd()) #get current working directory\n",
        "from urllib.request import urlopen,Request\n",
        "from bs4 import BeautifulSoup\n",
        "url = 'lieferando.de/liefservice-ladenburg-68526'\n",
        "#after running it for first time , then check below , as we need to scrap other pages as well\n",
        "#check here , URL of the website by going to next  page for same pin and city\n",
        "#it might be like  \"lieferando.de/liefservice-ladenburg-68526?page=2\" something we need to know \n",
        "req=Request(url,headers={'User-Agent':'Mozilla/5.0'})\n",
        "webpage=urlopen(req).read()\n",
        "page_soup = BeautifulSoup(webpage, \"html.parser\")\n",
        "#print(page_soup)\n",
        "title = page_soup.find(\"title\")\n",
        "print(title)\n",
        "with open(\"Test_scrap.html\", \"w\",encoding='utf-8') as file:\n",
        "    file.write(str(page_soup))\n",
        "    \n",
        "with open(\"Test_scrap.txt\", \"w\",encoding=\"utf-8\") as text_file:\n",
        "    text_file.write(str(page_soup))\n",
        "    text_file.close()\n",
        "\n",
        "#check  file Test_scrap.txt in current directoy as we need it    "
      ],
      "execution_count": 0,
      "outputs": []
    }
  ]
}